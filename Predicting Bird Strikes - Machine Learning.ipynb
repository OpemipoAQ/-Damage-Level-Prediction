{
 "cells": [
  {
   "cell_type": "code",
   "execution_count": 17,
   "id": "c24ee84c",
   "metadata": {},
   "outputs": [],
   "source": [
    "import numpy as np \n",
    "import pandas as pd\n",
    "from   pandas import DataFrame\n",
    "\n",
    "# Data Visualization\n",
    "import seaborn as sns\n",
    "import matplotlib.pyplot as plt\n",
    "\n",
    "# Machine Learning\n",
    "from   sklearn.preprocessing import LabelEncoder, StandardScaler, OrdinalEncoder\n",
    "from   sklearn.impute import SimpleImputer\n",
    "from   sklearn.model_selection import train_test_split, GridSearchCV\n",
    "from   sklearn.metrics import confusion_matrix , classification_report, accuracy_score, roc_auc_score, plot_roc_curve\n",
    "from   sklearn.linear_model import LogisticRegression\n",
    "from   sklearn.tree import DecisionTreeClassifier\n",
    "from   sklearn.ensemble import RandomForestClassifier\n",
    "from   xgboost import XGBClassifier\n",
    "from   lightgbm import LGBMClassifier\n",
    "from   imblearn.over_sampling import RandomOverSampler\n",
    "import pickle\n",
    "sns.set()\n",
    "# Maths\n",
    "import math\n",
    "\n",
    "# Set the options\n",
    "pd.set_option('display.max_rows', 20)\n",
    "pd.set_option('display.max_columns', 500)\n",
    "%matplotlib inline"
   ]
  },
  {
   "cell_type": "code",
   "execution_count": 18,
   "id": "09f2301c",
   "metadata": {},
   "outputs": [],
   "source": [
    "import warnings            #to ignore/avoid warnings on outputs\n",
    "warnings.filterwarnings('ignore')"
   ]
  },
  {
   "cell_type": "code",
   "execution_count": 19,
   "id": "efc101b2",
   "metadata": {},
   "outputs": [],
   "source": [
    "df3=pd.read_csv('StrikesDataML.csv')"
   ]
  },
  {
   "cell_type": "code",
   "execution_count": 37,
   "id": "2ed290a7",
   "metadata": {},
   "outputs": [
    {
     "data": {
      "text/html": [
       "<div>\n",
       "<style scoped>\n",
       "    .dataframe tbody tr th:only-of-type {\n",
       "        vertical-align: middle;\n",
       "    }\n",
       "\n",
       "    .dataframe tbody tr th {\n",
       "        vertical-align: top;\n",
       "    }\n",
       "\n",
       "    .dataframe thead th {\n",
       "        text-align: right;\n",
       "    }\n",
       "</style>\n",
       "<table border=\"1\" class=\"dataframe\">\n",
       "  <thead>\n",
       "    <tr style=\"text-align: right;\">\n",
       "      <th></th>\n",
       "      <th>SEASON</th>\n",
       "      <th>DAMAGE_RISK</th>\n",
       "      <th>AIRPORT</th>\n",
       "      <th>INDICATED_DAMAGE</th>\n",
       "      <th>SKY</th>\n",
       "      <th>PRECIPITATION</th>\n",
       "      <th>TIME_OF_DAY</th>\n",
       "      <th>AIRCRAFT</th>\n",
       "      <th>NUM_ENGS</th>\n",
       "      <th>TYPE_ENG</th>\n",
       "      <th>PHASE_OF_FLIGHT</th>\n",
       "      <th>DAMAGE_LEVEL</th>\n",
       "      <th>FAAREGION</th>\n",
       "      <th>ENG_1_POS</th>\n",
       "      <th>ENG_2_POS</th>\n",
       "      <th>ENG_3_POS</th>\n",
       "      <th>ENG_4_POS</th>\n",
       "    </tr>\n",
       "  </thead>\n",
       "  <tbody>\n",
       "    <tr>\n",
       "      <th>0</th>\n",
       "      <td>0.0</td>\n",
       "      <td>1.0</td>\n",
       "      <td>528.0</td>\n",
       "      <td>0.0</td>\n",
       "      <td>0.0</td>\n",
       "      <td>4.0</td>\n",
       "      <td>3.0</td>\n",
       "      <td>173.0</td>\n",
       "      <td>1.0</td>\n",
       "      <td>0.0</td>\n",
       "      <td>0.0</td>\n",
       "      <td>3.0</td>\n",
       "      <td>3.0</td>\n",
       "      <td>7.0</td>\n",
       "      <td>1.0</td>\n",
       "      <td>-1.0</td>\n",
       "      <td>-1.0</td>\n",
       "    </tr>\n",
       "    <tr>\n",
       "      <th>1</th>\n",
       "      <td>2.0</td>\n",
       "      <td>3.0</td>\n",
       "      <td>1280.0</td>\n",
       "      <td>0.0</td>\n",
       "      <td>0.0</td>\n",
       "      <td>4.0</td>\n",
       "      <td>1.0</td>\n",
       "      <td>56.0</td>\n",
       "      <td>3.0</td>\n",
       "      <td>3.0</td>\n",
       "      <td>6.0</td>\n",
       "      <td>3.0</td>\n",
       "      <td>7.0</td>\n",
       "      <td>5.0</td>\n",
       "      <td>6.0</td>\n",
       "      <td>5.0</td>\n",
       "      <td>-1.0</td>\n",
       "    </tr>\n",
       "    <tr>\n",
       "      <th>2</th>\n",
       "      <td>2.0</td>\n",
       "      <td>3.0</td>\n",
       "      <td>373.0</td>\n",
       "      <td>0.0</td>\n",
       "      <td>0.0</td>\n",
       "      <td>4.0</td>\n",
       "      <td>1.0</td>\n",
       "      <td>75.0</td>\n",
       "      <td>2.0</td>\n",
       "      <td>3.0</td>\n",
       "      <td>6.0</td>\n",
       "      <td>3.0</td>\n",
       "      <td>3.0</td>\n",
       "      <td>1.0</td>\n",
       "      <td>1.0</td>\n",
       "      <td>-1.0</td>\n",
       "      <td>-1.0</td>\n",
       "    </tr>\n",
       "    <tr>\n",
       "      <th>3</th>\n",
       "      <td>0.0</td>\n",
       "      <td>0.0</td>\n",
       "      <td>1325.0</td>\n",
       "      <td>1.0</td>\n",
       "      <td>0.0</td>\n",
       "      <td>4.0</td>\n",
       "      <td>1.0</td>\n",
       "      <td>113.0</td>\n",
       "      <td>1.0</td>\n",
       "      <td>0.0</td>\n",
       "      <td>0.0</td>\n",
       "      <td>4.0</td>\n",
       "      <td>4.0</td>\n",
       "      <td>7.0</td>\n",
       "      <td>1.0</td>\n",
       "      <td>-1.0</td>\n",
       "      <td>-1.0</td>\n",
       "    </tr>\n",
       "    <tr>\n",
       "      <th>4</th>\n",
       "      <td>1.0</td>\n",
       "      <td>1.0</td>\n",
       "      <td>622.0</td>\n",
       "      <td>0.0</td>\n",
       "      <td>0.0</td>\n",
       "      <td>4.0</td>\n",
       "      <td>3.0</td>\n",
       "      <td>56.0</td>\n",
       "      <td>3.0</td>\n",
       "      <td>3.0</td>\n",
       "      <td>0.0</td>\n",
       "      <td>3.0</td>\n",
       "      <td>7.0</td>\n",
       "      <td>5.0</td>\n",
       "      <td>6.0</td>\n",
       "      <td>5.0</td>\n",
       "      <td>-1.0</td>\n",
       "    </tr>\n",
       "  </tbody>\n",
       "</table>\n",
       "</div>"
      ],
      "text/plain": [
       "   SEASON  DAMAGE_RISK  AIRPORT  INDICATED_DAMAGE  SKY  PRECIPITATION  \\\n",
       "0     0.0          1.0    528.0               0.0  0.0            4.0   \n",
       "1     2.0          3.0   1280.0               0.0  0.0            4.0   \n",
       "2     2.0          3.0    373.0               0.0  0.0            4.0   \n",
       "3     0.0          0.0   1325.0               1.0  0.0            4.0   \n",
       "4     1.0          1.0    622.0               0.0  0.0            4.0   \n",
       "\n",
       "   TIME_OF_DAY  AIRCRAFT  NUM_ENGS  TYPE_ENG  PHASE_OF_FLIGHT  DAMAGE_LEVEL  \\\n",
       "0          3.0     173.0       1.0       0.0              0.0           3.0   \n",
       "1          1.0      56.0       3.0       3.0              6.0           3.0   \n",
       "2          1.0      75.0       2.0       3.0              6.0           3.0   \n",
       "3          1.0     113.0       1.0       0.0              0.0           4.0   \n",
       "4          3.0      56.0       3.0       3.0              0.0           3.0   \n",
       "\n",
       "   FAAREGION  ENG_1_POS  ENG_2_POS  ENG_3_POS  ENG_4_POS  \n",
       "0        3.0        7.0        1.0       -1.0       -1.0  \n",
       "1        7.0        5.0        6.0        5.0       -1.0  \n",
       "2        3.0        1.0        1.0       -1.0       -1.0  \n",
       "3        4.0        7.0        1.0       -1.0       -1.0  \n",
       "4        7.0        5.0        6.0        5.0       -1.0  "
      ]
     },
     "execution_count": 37,
     "metadata": {},
     "output_type": "execute_result"
    }
   ],
   "source": [
    "df3.head()"
   ]
  },
  {
   "cell_type": "code",
   "execution_count": 21,
   "id": "c065e2a3",
   "metadata": {},
   "outputs": [],
   "source": [
    "df3['AIRPORT']=np.array(df3['AIRPORT'])"
   ]
  },
  {
   "cell_type": "code",
   "execution_count": 22,
   "id": "d00ee387",
   "metadata": {},
   "outputs": [
    {
     "data": {
      "text/plain": [
       "0                      DELAWARE COUNTY REGIONAL ARPT\n",
       "1              LOUIE ARMSTRONG NEW ORLEANS INTL ARPT\n",
       "2                           CHICAGO O'HARE INTL ARPT\n",
       "3                                 MANCHESTER AIRPORT\n",
       "4                                  EL PASO INTL ARPT\n",
       "                             ...                    \n",
       "255924                      CHICAGO O'HARE INTL ARPT\n",
       "255925                                       UNKNOWN\n",
       "255926                         AUSTIN-BERGSTROM INTL\n",
       "255927                    PORTLAND INTL JETPORT (ME)\n",
       "255928    GEORGE BUSH INTERCONTINENTAL/ HOUSTON ARPT\n",
       "Name: AIRPORT, Length: 255929, dtype: object"
      ]
     },
     "execution_count": 22,
     "metadata": {},
     "output_type": "execute_result"
    }
   ],
   "source": [
    "df3['AIRPORT']"
   ]
  },
  {
   "cell_type": "code",
   "execution_count": 23,
   "id": "f1e0ae74",
   "metadata": {},
   "outputs": [],
   "source": [
    "#define ordinal encoding\n",
    "encoder=OrdinalEncoder()\n",
    "#transform data\n",
    "Airport=np.array(df3['AIRPORT'])\n",
    "Airport=Airport.reshape(-1,1)\n",
    "df3['AIRPORT']=encoder.fit_transform(Airport)\n",
    "\n"
   ]
  },
  {
   "cell_type": "code",
   "execution_count": 24,
   "id": "a3c4f33f",
   "metadata": {},
   "outputs": [],
   "source": [
    "encoder=OrdinalEncoder()\n",
    "#transform data\n",
    "Season=np.array(df3['SEASON'])\n",
    "Season=Season.reshape(-1,1)\n",
    "df3['SEASON']=encoder.fit_transform(Season)"
   ]
  },
  {
   "cell_type": "code",
   "execution_count": 25,
   "id": "5a69c142",
   "metadata": {},
   "outputs": [],
   "source": [
    "encoder=OrdinalEncoder()\n",
    "#transform data\n",
    "Damage_Risk=np.array(df3['DAMAGE_RISK'])\n",
    "Damage_Risk=Damage_Risk.reshape(-1,1)\n",
    "df3['DAMAGE_RISK']=encoder.fit_transform(Damage_Risk)"
   ]
  },
  {
   "cell_type": "code",
   "execution_count": 26,
   "id": "6eae1618",
   "metadata": {},
   "outputs": [],
   "source": [
    "encoder=OrdinalEncoder()\n",
    "#transform data\n",
    "Indicated_Damage=np.array(df3['INDICATED_DAMAGE'])\n",
    "Indicated_Damage=Indicated_Damage.reshape(-1,1)\n",
    "df3['INDICATED_DAMAGE']=encoder.fit_transform(Indicated_Damage)"
   ]
  },
  {
   "cell_type": "code",
   "execution_count": 27,
   "id": "fe6f6a02",
   "metadata": {},
   "outputs": [],
   "source": [
    "encoder=OrdinalEncoder()\n",
    "#transform data\n",
    "Sky=np.array(df3['SKY'])\n",
    "Sky=Sky.reshape(-1,1)\n",
    "df3['SKY']=encoder.fit_transform(Sky)"
   ]
  },
  {
   "cell_type": "code",
   "execution_count": 28,
   "id": "7f82ea1d",
   "metadata": {},
   "outputs": [],
   "source": [
    "encoder=OrdinalEncoder()\n",
    "#transform data\n",
    "Precipitation=np.array(df3['PRECIPITATION'])\n",
    "Precipitation=Precipitation.reshape(-1,1)\n",
    "df3['PRECIPITATION']=encoder.fit_transform(Precipitation)"
   ]
  },
  {
   "cell_type": "code",
   "execution_count": 29,
   "id": "dc8675a8",
   "metadata": {},
   "outputs": [],
   "source": [
    "encoder=OrdinalEncoder()\n",
    "#transform data\n",
    "Time_of_day=np.array(df3['TIME_OF_DAY'])\n",
    "Time_of_day=Time_of_day.reshape(-1,1)\n",
    "df3['TIME_OF_DAY']=encoder.fit_transform(Time_of_day)"
   ]
  },
  {
   "cell_type": "code",
   "execution_count": 30,
   "id": "9641aa2a",
   "metadata": {},
   "outputs": [],
   "source": [
    "encoder=OrdinalEncoder()\n",
    "#transform data\n",
    "Aircraft=np.array(df3['AIRCRAFT'])\n",
    "Aircraft=Aircraft.reshape(-1,1)\n",
    "df3['AIRCRAFT']=encoder.fit_transform(Aircraft)"
   ]
  },
  {
   "cell_type": "code",
   "execution_count": 31,
   "id": "1c568104",
   "metadata": {},
   "outputs": [],
   "source": [
    "encoder=OrdinalEncoder()\n",
    "#transform data\n",
    "Type_of_Eng=np.array(df3['TYPE_ENG'])\n",
    "Type_of_Eng=Type_of_Eng.reshape(-1,1)\n",
    "df3['TYPE_ENG']=encoder.fit_transform(Type_of_Eng)"
   ]
  },
  {
   "cell_type": "code",
   "execution_count": 32,
   "id": "341cd4f8",
   "metadata": {},
   "outputs": [],
   "source": [
    "encoder=OrdinalEncoder()\n",
    "#transform data\n",
    "Phase_of_flight=np.array(df3['PHASE_OF_FLIGHT'])\n",
    "Phase_of_flight=Phase_of_flight.reshape(-1,1)\n",
    "df3['PHASE_OF_FLIGHT']=encoder.fit_transform(Phase_of_flight)"
   ]
  },
  {
   "cell_type": "code",
   "execution_count": 34,
   "id": "b2ee643d",
   "metadata": {},
   "outputs": [],
   "source": [
    "encoder=OrdinalEncoder()\n",
    "#transform data\n",
    "Damage_Level=np.array(df3['DAMAGE_LEVEL'])\n",
    "Damage_Level=Damage_Level.reshape(-1,1)\n",
    "df3['DAMAGE_LEVEL']=encoder.fit_transform(Damage_Level)"
   ]
  },
  {
   "cell_type": "code",
   "execution_count": 35,
   "id": "e509377f",
   "metadata": {},
   "outputs": [],
   "source": [
    "encoder=OrdinalEncoder()\n",
    "#transform data\n",
    "FAAREGION=np.array(df3['FAAREGION'])\n",
    "FAAREGION=FAAREGION.reshape(-1,1)\n",
    "df3['FAAREGION']=encoder.fit_transform(FAAREGION)"
   ]
  },
  {
   "cell_type": "code",
   "execution_count": 36,
   "id": "3326cb81",
   "metadata": {},
   "outputs": [],
   "source": [
    "df3.drop('Unnamed: 0', axis=1, inplace=True)"
   ]
  },
  {
   "cell_type": "markdown",
   "id": "74c352ae",
   "metadata": {},
   "source": [
    "# SCALING"
   ]
  },
  {
   "cell_type": "code",
   "execution_count": 38,
   "id": "19b5ae5d",
   "metadata": {},
   "outputs": [],
   "source": [
    "scaler=StandardScaler()\n",
    "X=df3.drop('INDICATED_DAMAGE', axis=1)\n",
    "y=df3['INDICATED_DAMAGE']"
   ]
  },
  {
   "cell_type": "code",
   "execution_count": 39,
   "id": "8dcfb04f",
   "metadata": {},
   "outputs": [
    {
     "data": {
      "text/html": [
       "<div>\n",
       "<style scoped>\n",
       "    .dataframe tbody tr th:only-of-type {\n",
       "        vertical-align: middle;\n",
       "    }\n",
       "\n",
       "    .dataframe tbody tr th {\n",
       "        vertical-align: top;\n",
       "    }\n",
       "\n",
       "    .dataframe thead th {\n",
       "        text-align: right;\n",
       "    }\n",
       "</style>\n",
       "<table border=\"1\" class=\"dataframe\">\n",
       "  <thead>\n",
       "    <tr style=\"text-align: right;\">\n",
       "      <th></th>\n",
       "      <th>Importance</th>\n",
       "    </tr>\n",
       "  </thead>\n",
       "  <tbody>\n",
       "    <tr>\n",
       "      <th>DAMAGE_LEVEL</th>\n",
       "      <td>0.306910</td>\n",
       "    </tr>\n",
       "    <tr>\n",
       "      <th>TYPE_ENG</th>\n",
       "      <td>0.057807</td>\n",
       "    </tr>\n",
       "    <tr>\n",
       "      <th>NUM_ENGS</th>\n",
       "      <td>0.057248</td>\n",
       "    </tr>\n",
       "    <tr>\n",
       "      <th>DAMAGE_RISK</th>\n",
       "      <td>0.057205</td>\n",
       "    </tr>\n",
       "    <tr>\n",
       "      <th>AIRCRAFT</th>\n",
       "      <td>0.054139</td>\n",
       "    </tr>\n",
       "    <tr>\n",
       "      <th>ENG_4_POS</th>\n",
       "      <td>0.054015</td>\n",
       "    </tr>\n",
       "    <tr>\n",
       "      <th>PRECIPITATION</th>\n",
       "      <td>0.052965</td>\n",
       "    </tr>\n",
       "    <tr>\n",
       "      <th>ENG_3_POS</th>\n",
       "      <td>0.046337</td>\n",
       "    </tr>\n",
       "    <tr>\n",
       "      <th>ENG_1_POS</th>\n",
       "      <td>0.034162</td>\n",
       "    </tr>\n",
       "    <tr>\n",
       "      <th>TIME_OF_DAY</th>\n",
       "      <td>0.030458</td>\n",
       "    </tr>\n",
       "    <tr>\n",
       "      <th>AIRPORT</th>\n",
       "      <td>0.021100</td>\n",
       "    </tr>\n",
       "    <tr>\n",
       "      <th>ENG_2_POS</th>\n",
       "      <td>0.020807</td>\n",
       "    </tr>\n",
       "    <tr>\n",
       "      <th>SEASON</th>\n",
       "      <td>0.017589</td>\n",
       "    </tr>\n",
       "    <tr>\n",
       "      <th>PHASE_OF_FLIGHT</th>\n",
       "      <td>0.017267</td>\n",
       "    </tr>\n",
       "    <tr>\n",
       "      <th>FAAREGION</th>\n",
       "      <td>0.010716</td>\n",
       "    </tr>\n",
       "    <tr>\n",
       "      <th>SKY</th>\n",
       "      <td>0.005202</td>\n",
       "    </tr>\n",
       "  </tbody>\n",
       "</table>\n",
       "</div>"
      ],
      "text/plain": [
       "                 Importance\n",
       "DAMAGE_LEVEL       0.306910\n",
       "TYPE_ENG           0.057807\n",
       "NUM_ENGS           0.057248\n",
       "DAMAGE_RISK        0.057205\n",
       "AIRCRAFT           0.054139\n",
       "ENG_4_POS          0.054015\n",
       "PRECIPITATION      0.052965\n",
       "ENG_3_POS          0.046337\n",
       "ENG_1_POS          0.034162\n",
       "TIME_OF_DAY        0.030458\n",
       "AIRPORT            0.021100\n",
       "ENG_2_POS          0.020807\n",
       "SEASON             0.017589\n",
       "PHASE_OF_FLIGHT    0.017267\n",
       "FAAREGION          0.010716\n",
       "SKY                0.005202"
      ]
     },
     "execution_count": 39,
     "metadata": {},
     "output_type": "execute_result"
    }
   ],
   "source": [
    "from sklearn.feature_selection import mutual_info_classif\n",
    "mutual_info_classif(X,y)\n",
    "imp=pd.DataFrame(mutual_info_classif(X,y), index=X.columns)\n",
    "imp\n",
    "imp.columns=['Importance']\n",
    "imp.sort_values(by='Importance',ascending=False)"
   ]
  },
  {
   "cell_type": "code",
   "execution_count": 40,
   "id": "4c911509",
   "metadata": {},
   "outputs": [],
   "source": [
    "# Train Test Split\n",
    "X_train, X_test, y_train, y_test=train_test_split(X,y,test_size=0.3,random_state=123)"
   ]
  },
  {
   "cell_type": "code",
   "execution_count": 41,
   "id": "6a08a92d",
   "metadata": {},
   "outputs": [
    {
     "data": {
      "text/plain": [
       "StandardScaler()"
      ]
     },
     "execution_count": 41,
     "metadata": {},
     "output_type": "execute_result"
    }
   ],
   "source": [
    "scaler.fit(X_train)"
   ]
  },
  {
   "cell_type": "code",
   "execution_count": 42,
   "id": "526cf4f0",
   "metadata": {},
   "outputs": [],
   "source": [
    "X_train=scaler.transform(X_train)\n",
    "X_test=scaler.transform(X_test)"
   ]
  },
  {
   "cell_type": "markdown",
   "id": "ee2f904a",
   "metadata": {},
   "source": [
    "# Model Building"
   ]
  },
  {
   "cell_type": "code",
   "execution_count": 43,
   "id": "a37f3d7f",
   "metadata": {},
   "outputs": [],
   "source": [
    "input_ml_algo='LR'"
   ]
  },
  {
   "cell_type": "code",
   "execution_count": 44,
   "id": "061302db",
   "metadata": {},
   "outputs": [],
   "source": [
    "#Select the algorith according to the input provided\n",
    "def model_to_use(input_ml_algo):\n",
    "    if input_ml_algo=='DT':\n",
    "        model=DecisionTreeClassifier()\n",
    "    elif input_ml_algo=='RF':\n",
    "        model=RandomForestClassifier()\n",
    "    elif input_ml_algo=='XGBC':\n",
    "        model=XGBClassifier()\n",
    "    elif input_ml_algo=='LGBMC':\n",
    "        model=LGBMClassifier()\n",
    "    elif input_ml_algo=='LR':\n",
    "        model=LogisticRegression()\n",
    "    return model"
   ]
  },
  {
   "cell_type": "code",
   "execution_count": 45,
   "id": "871d9d8d",
   "metadata": {},
   "outputs": [
    {
     "data": {
      "text/plain": [
       "LogisticRegression()"
      ]
     },
     "execution_count": 45,
     "metadata": {},
     "output_type": "execute_result"
    }
   ],
   "source": [
    "model=model_to_use('LR')\n",
    "model"
   ]
  },
  {
   "cell_type": "code",
   "execution_count": 46,
   "id": "478eda06",
   "metadata": {},
   "outputs": [
    {
     "data": {
      "text/plain": [
       "LogisticRegression()"
      ]
     },
     "execution_count": 46,
     "metadata": {},
     "output_type": "execute_result"
    }
   ],
   "source": [
    "#training the model\n",
    "model.fit(X_train, y_train)\n",
    "model"
   ]
  },
  {
   "cell_type": "code",
   "execution_count": 47,
   "id": "819bd27b",
   "metadata": {},
   "outputs": [
    {
     "name": "stdout",
     "output_type": "stream",
     "text": [
      "Y predicted :  [0. 0. 0. ... 0. 0. 0.]\n",
      "Y probability predicted :  [0.004514165797741957, 0.008298054323384846, 0.037037086135602575, 0.005869215429829556, 0.028989141601183138]\n"
     ]
    }
   ],
   "source": [
    "y_pred=model.predict(X_test)\n",
    "\n",
    "#predict probability for test dataset\n",
    "y_pred_prod=model.predict_proba(X_test)\n",
    "y_pred_prod=[x[1]for x in y_pred_prod]  \n",
    "print('Y predicted : ',y_pred)\n",
    "print('Y probability predicted : ',y_pred_prod[:5])"
   ]
  },
  {
   "cell_type": "code",
   "execution_count": 48,
   "id": "c5680521",
   "metadata": {},
   "outputs": [
    {
     "name": "stdout",
     "output_type": "stream",
     "text": [
      "\n",
      " Accuracy Score : \n",
      "  0.9727269175165084\n",
      "\n",
      " AUC Score : \n",
      "  0.811536290014104\n",
      "\n",
      " Confusion Matrix : \n",
      "  [[71225     1]\n",
      " [ 2093  3460]]\n",
      "\n",
      " Classification Report : \n",
      "                precision    recall  f1-score   support\n",
      "\n",
      "         0.0       0.97      1.00      0.99     71226\n",
      "         1.0       1.00      0.62      0.77      5553\n",
      "\n",
      "    accuracy                           0.97     76779\n",
      "   macro avg       0.99      0.81      0.88     76779\n",
      "weighted avg       0.97      0.97      0.97     76779\n",
      "\n",
      "\n",
      " ROC Curve : \n",
      " \n"
     ]
    },
    {
     "data": {
      "image/png": "[encoded data removed]",
      "text/plain": [
       "<Figure size 432x288 with 1 Axes>"
      ]
     },
     "metadata": {},
     "output_type": "display_data"
    }
   ],
   "source": [
    "def compute_evaluation_metric(model,x_test,y_actual,y_predicted,y_predicted_prob):\n",
    "    print('\\n Accuracy Score : \\n ',accuracy_score(y_actual,y_predicted))\n",
    "    print('\\n AUC Score : \\n ',roc_auc_score(y_actual,y_predicted))\n",
    "    print('\\n Confusion Matrix : \\n ',confusion_matrix(y_actual,y_predicted))\n",
    "    print('\\n Classification Report : \\n ',classification_report(y_actual,y_predicted))\n",
    "    \n",
    "    print('\\n ROC Curve : \\n ')\n",
    "    sns.set_style('white')\n",
    "    plot_roc_curve(model,x_test,y_actual)\n",
    "    plt.show()\n",
    "    \n",
    "compute_evaluation_metric(model,X_test,y_test,y_pred,y_pred_prod)"
   ]
  },
  {
   "cell_type": "code",
   "execution_count": 49,
   "id": "bd7c5bca",
   "metadata": {},
   "outputs": [
    {
     "data": {
      "text/plain": [
       "RandomForestClassifier()"
      ]
     },
     "execution_count": 49,
     "metadata": {},
     "output_type": "execute_result"
    }
   ],
   "source": [
    "model=model_to_use('RF')\n",
    "model"
   ]
  },
  {
   "cell_type": "code",
   "execution_count": 50,
   "id": "23c243b9",
   "metadata": {},
   "outputs": [
    {
     "data": {
      "text/plain": [
       "RandomForestClassifier()"
      ]
     },
     "execution_count": 50,
     "metadata": {},
     "output_type": "execute_result"
    }
   ],
   "source": [
    "#training the model\n",
    "model.fit(X_train, y_train)\n",
    "model"
   ]
  },
  {
   "cell_type": "code",
   "execution_count": 51,
   "id": "521d0707",
   "metadata": {},
   "outputs": [
    {
     "name": "stdout",
     "output_type": "stream",
     "text": [
      "Y predicted :  [0. 0. 0. ... 0. 0. 0.]\n",
      "Y probability predicted :  [0.0, 0.0, 0.0, 0.0, 0.0]\n"
     ]
    }
   ],
   "source": [
    "y_pred=model.predict(X_test)\n",
    "\n",
    "#predict probability for test dataset\n",
    "y_pred_prod=model.predict_proba(X_test)\n",
    "y_pred_prod=[x[1]for x in y_pred_prod]  \n",
    "print('Y predicted : ',y_pred)\n",
    "print('Y probability predicted : ',y_pred_prod[:5])"
   ]
  },
  {
   "cell_type": "code",
   "execution_count": 52,
   "id": "7af46dc9",
   "metadata": {},
   "outputs": [
    {
     "name": "stdout",
     "output_type": "stream",
     "text": [
      "\n",
      " Accuracy Score : \n",
      "  0.9997916096849399\n",
      "\n",
      " AUC Score : \n",
      "  0.9987253803163406\n",
      "\n",
      " Confusion Matrix : \n",
      "  [[71224     2]\n",
      " [   14  5539]]\n",
      "\n",
      " Classification Report : \n",
      "                precision    recall  f1-score   support\n",
      "\n",
      "         0.0       1.00      1.00      1.00     71226\n",
      "         1.0       1.00      1.00      1.00      5553\n",
      "\n",
      "    accuracy                           1.00     76779\n",
      "   macro avg       1.00      1.00      1.00     76779\n",
      "weighted avg       1.00      1.00      1.00     76779\n",
      "\n",
      "\n",
      " ROC Curve : \n",
      " \n"
     ]
    },
    {
     "data": {
      "image/png": "[encoded data removed]",
      "text/plain": [
       "<Figure size 432x288 with 1 Axes>"
      ]
     },
     "metadata": {},
     "output_type": "display_data"
    }
   ],
   "source": [
    "def compute_evaluation_metric(model,x_test,y_actual,y_predicted,y_predicted_prob):\n",
    "    print('\\n Accuracy Score : \\n ',accuracy_score(y_actual,y_predicted))\n",
    "    print('\\n AUC Score : \\n ',roc_auc_score(y_actual,y_predicted))\n",
    "    print('\\n Confusion Matrix : \\n ',confusion_matrix(y_actual,y_predicted))\n",
    "    print('\\n Classification Report : \\n ',classification_report(y_actual,y_predicted))\n",
    "    \n",
    "    print('\\n ROC Curve : \\n ')\n",
    "    sns.set_style('white')\n",
    "    plot_roc_curve(model,x_test,y_actual)\n",
    "    plt.show()\n",
    "    \n",
    "compute_evaluation_metric(model,X_test,y_test,y_pred,y_pred_prod)"
   ]
  },
  {
   "cell_type": "code",
   "execution_count": 53,
   "id": "8e15dd60",
   "metadata": {},
   "outputs": [
    {
     "data": {
      "text/plain": [
       "DecisionTreeClassifier()"
      ]
     },
     "execution_count": 53,
     "metadata": {},
     "output_type": "execute_result"
    }
   ],
   "source": [
    "model=model_to_use('DT')\n",
    "model"
   ]
  },
  {
   "cell_type": "code",
   "execution_count": 54,
   "id": "6cc51625",
   "metadata": {},
   "outputs": [
    {
     "data": {
      "text/plain": [
       "DecisionTreeClassifier()"
      ]
     },
     "execution_count": 54,
     "metadata": {},
     "output_type": "execute_result"
    }
   ],
   "source": [
    "#training the model\n",
    "model.fit(X_train, y_train)\n",
    "model"
   ]
  },
  {
   "cell_type": "code",
   "execution_count": 55,
   "id": "77a6fa5f",
   "metadata": {},
   "outputs": [
    {
     "name": "stdout",
     "output_type": "stream",
     "text": [
      "Y predicted :  [0. 0. 0. ... 0. 0. 0.]\n",
      "Y probability predicted :  [0.0, 0.0, 0.0, 0.0, 0.0]\n"
     ]
    }
   ],
   "source": [
    "y_pred=model.predict(X_test)\n",
    "\n",
    "#predict probability for test dataset\n",
    "y_pred_prod=model.predict_proba(X_test)\n",
    "y_pred_prod=[x[1]for x in y_pred_prod]  \n",
    "print('Y predicted : ',y_pred)\n",
    "print('Y probability predicted : ',y_pred_prod[:5])"
   ]
  },
  {
   "cell_type": "code",
   "execution_count": 56,
   "id": "680816c2",
   "metadata": {},
   "outputs": [
    {
     "name": "stdout",
     "output_type": "stream",
     "text": [
      "\n",
      " Accuracy Score : \n",
      "  0.9995832193698798\n",
      "\n",
      " AUC Score : \n",
      "  0.99811493271742\n",
      "\n",
      " Confusion Matrix : \n",
      "  [[71214    12]\n",
      " [   20  5533]]\n",
      "\n",
      " Classification Report : \n",
      "                precision    recall  f1-score   support\n",
      "\n",
      "         0.0       1.00      1.00      1.00     71226\n",
      "         1.0       1.00      1.00      1.00      5553\n",
      "\n",
      "    accuracy                           1.00     76779\n",
      "   macro avg       1.00      1.00      1.00     76779\n",
      "weighted avg       1.00      1.00      1.00     76779\n",
      "\n",
      "\n",
      " ROC Curve : \n",
      " \n"
     ]
    },
    {
     "data": {
      "image/png": "[encoded data removed]",
      "text/plain": [
       "<Figure size 432x288 with 1 Axes>"
      ]
     },
     "metadata": {},
     "output_type": "display_data"
    }
   ],
   "source": [
    "def compute_evaluation_metric(model,x_test,y_actual,y_predicted,y_predicted_prob):\n",
    "    print('\\n Accuracy Score : \\n ',accuracy_score(y_actual,y_predicted))\n",
    "    print('\\n AUC Score : \\n ',roc_auc_score(y_actual,y_predicted))\n",
    "    print('\\n Confusion Matrix : \\n ',confusion_matrix(y_actual,y_predicted))\n",
    "    print('\\n Classification Report : \\n ',classification_report(y_actual,y_predicted))\n",
    "    \n",
    "    print('\\n ROC Curve : \\n ')\n",
    "    sns.set_style('white')\n",
    "    plot_roc_curve(model,x_test,y_actual)\n",
    "    plt.show()\n",
    "    \n",
    "compute_evaluation_metric(model,X_test,y_test,y_pred,y_pred_prod)"
   ]
  },
  {
   "cell_type": "code",
   "execution_count": 57,
   "id": "83f0a528",
   "metadata": {},
   "outputs": [
    {
     "data": {
      "text/plain": [
       "XGBClassifier(base_score=None, booster=None, colsample_bylevel=None,\n",
       "              colsample_bynode=None, colsample_bytree=None,\n",
       "              enable_categorical=False, gamma=None, gpu_id=None,\n",
       "              importance_type=None, interaction_constraints=None,\n",
       "              learning_rate=None, max_delta_step=None, max_depth=None,\n",
       "              min_child_weight=None, missing=nan, monotone_constraints=None,\n",
       "              n_estimators=100, n_jobs=None, num_parallel_tree=None,\n",
       "              predictor=None, random_state=None, reg_alpha=None,\n",
       "              reg_lambda=None, scale_pos_weight=None, subsample=None,\n",
       "              tree_method=None, validate_parameters=None, verbosity=None)"
      ]
     },
     "execution_count": 57,
     "metadata": {},
     "output_type": "execute_result"
    }
   ],
   "source": [
    "model=model_to_use('XGBC')\n",
    "model"
   ]
  },
  {
   "cell_type": "code",
   "execution_count": 58,
   "id": "31d34b8b",
   "metadata": {},
   "outputs": [
    {
     "name": "stdout",
     "output_type": "stream",
     "text": [
      "[16:10:22] WARNING: C:/Users/Administrator/workspace/xgboost-win64_release_1.5.1/src/learner.cc:1115: Starting in XGBoost 1.3.0, the default evaluation metric used with the objective 'binary:logistic' was changed from 'error' to 'logloss'. Explicitly set eval_metric if you'd like to restore the old behavior.\n"
     ]
    },
    {
     "data": {
      "text/plain": [
       "XGBClassifier(base_score=0.5, booster='gbtree', colsample_bylevel=1,\n",
       "              colsample_bynode=1, colsample_bytree=1, enable_categorical=False,\n",
       "              gamma=0, gpu_id=-1, importance_type=None,\n",
       "              interaction_constraints='', learning_rate=0.300000012,\n",
       "              max_delta_step=0, max_depth=6, min_child_weight=1, missing=nan,\n",
       "              monotone_constraints='()', n_estimators=100, n_jobs=8,\n",
       "              num_parallel_tree=1, predictor='auto', random_state=0,\n",
       "              reg_alpha=0, reg_lambda=1, scale_pos_weight=1, subsample=1,\n",
       "              tree_method='exact', validate_parameters=1, verbosity=None)"
      ]
     },
     "execution_count": 58,
     "metadata": {},
     "output_type": "execute_result"
    }
   ],
   "source": [
    "#training the model\n",
    "model.fit(X_train, y_train)\n",
    "model"
   ]
  },
  {
   "cell_type": "code",
   "execution_count": 59,
   "id": "a4476c23",
   "metadata": {},
   "outputs": [
    {
     "name": "stdout",
     "output_type": "stream",
     "text": [
      "Y predicted :  [0. 0. 0. ... 0. 0. 0.]\n",
      "Y probability predicted :  [4.6107508e-07, 7.28919e-07, 1.0904274e-05, 4.4050967e-07, 2.2460206e-05]\n"
     ]
    }
   ],
   "source": [
    "y_pred=model.predict(X_test)\n",
    "\n",
    "#predict probability for test dataset\n",
    "y_pred_prod=model.predict_proba(X_test)\n",
    "y_pred_prod=[x[1]for x in y_pred_prod]  \n",
    "print('Y predicted : ',y_pred)\n",
    "print('Y probability predicted : ',y_pred_prod[:5])"
   ]
  },
  {
   "cell_type": "code",
   "execution_count": 60,
   "id": "e7a5ba9a",
   "metadata": {},
   "outputs": [
    {
     "name": "stdout",
     "output_type": "stream",
     "text": [
      "\n",
      " Accuracy Score : \n",
      "  0.9998046340796312\n",
      "\n",
      " AUC Score : \n",
      "  0.9987324002248009\n",
      "\n",
      " Confusion Matrix : \n",
      "  [[71225     1]\n",
      " [   14  5539]]\n",
      "\n",
      " Classification Report : \n",
      "                precision    recall  f1-score   support\n",
      "\n",
      "         0.0       1.00      1.00      1.00     71226\n",
      "         1.0       1.00      1.00      1.00      5553\n",
      "\n",
      "    accuracy                           1.00     76779\n",
      "   macro avg       1.00      1.00      1.00     76779\n",
      "weighted avg       1.00      1.00      1.00     76779\n",
      "\n",
      "\n",
      " ROC Curve : \n",
      " \n"
     ]
    },
    {
     "data": {
      "image/png": "[encoded data removed]",
      "text/plain": [
       "<Figure size 432x288 with 1 Axes>"
      ]
     },
     "metadata": {},
     "output_type": "display_data"
    }
   ],
   "source": [
    "def compute_evaluation_metric(model,x_test,y_actual,y_predicted,y_predicted_prob):\n",
    "    print('\\n Accuracy Score : \\n ',accuracy_score(y_actual,y_predicted))\n",
    "    print('\\n AUC Score : \\n ',roc_auc_score(y_actual,y_predicted))\n",
    "    print('\\n Confusion Matrix : \\n ',confusion_matrix(y_actual,y_predicted))\n",
    "    print('\\n Classification Report : \\n ',classification_report(y_actual,y_predicted))\n",
    "    \n",
    "    print('\\n ROC Curve : \\n ')\n",
    "    sns.set_style('white')\n",
    "    plot_roc_curve(model,x_test,y_actual)\n",
    "    plt.show()\n",
    "    \n",
    "compute_evaluation_metric(model,X_test,y_test,y_pred,y_pred_prod)"
   ]
  },
  {
   "cell_type": "code",
   "execution_count": 61,
   "id": "bc75b610",
   "metadata": {},
   "outputs": [
    {
     "data": {
      "text/plain": [
       "LGBMClassifier()"
      ]
     },
     "execution_count": 61,
     "metadata": {},
     "output_type": "execute_result"
    }
   ],
   "source": [
    "model=model_to_use('LGBMC')\n",
    "model"
   ]
  },
  {
   "cell_type": "code",
   "execution_count": 62,
   "id": "70377ca6",
   "metadata": {},
   "outputs": [
    {
     "data": {
      "text/plain": [
       "LGBMClassifier()"
      ]
     },
     "execution_count": 62,
     "metadata": {},
     "output_type": "execute_result"
    }
   ],
   "source": [
    "#training the model\n",
    "model.fit(X_train, y_train)\n",
    "model"
   ]
  },
  {
   "cell_type": "code",
   "execution_count": 63,
   "id": "8fb56449",
   "metadata": {},
   "outputs": [
    {
     "name": "stdout",
     "output_type": "stream",
     "text": [
      "Y predicted :  [0. 0. 0. ... 0. 0. 0.]\n",
      "Y probability predicted :  [4.185971527052094e-06, 3.6888660774245224e-06, 3.0557746532204475e-05, 3.817537744565699e-06, 2.215248749607551e-05]\n"
     ]
    }
   ],
   "source": [
    "y_pred=model.predict(X_test)\n",
    "\n",
    "#predict probability for test dataset\n",
    "y_pred_prod=model.predict_proba(X_test)\n",
    "y_pred_prod=[x[1]for x in y_pred_prod]  \n",
    "print('Y predicted : ',y_pred)\n",
    "print('Y probability predicted : ',y_pred_prod[:5])"
   ]
  },
  {
   "cell_type": "markdown",
   "id": "c8226ca0",
   "metadata": {},
   "source": [
    "# Model Evaluation"
   ]
  },
  {
   "cell_type": "code",
   "execution_count": 64,
   "id": "0b13aa3a",
   "metadata": {},
   "outputs": [
    {
     "name": "stdout",
     "output_type": "stream",
     "text": [
      "\n",
      " Accuracy Score : \n",
      "  0.9997916096849399\n",
      "\n",
      " AUC Score : \n",
      "  0.9987253803163406\n",
      "\n",
      " Confusion Matrix : \n",
      "  [[71224     2]\n",
      " [   14  5539]]\n",
      "\n",
      " Classification Report : \n",
      "                precision    recall  f1-score   support\n",
      "\n",
      "         0.0       1.00      1.00      1.00     71226\n",
      "         1.0       1.00      1.00      1.00      5553\n",
      "\n",
      "    accuracy                           1.00     76779\n",
      "   macro avg       1.00      1.00      1.00     76779\n",
      "weighted avg       1.00      1.00      1.00     76779\n",
      "\n",
      "\n",
      " ROC Curve : \n",
      " \n"
     ]
    },
    {
     "data": {
      "image/png": "[encoded data removed]",
      "text/plain": [
       "<Figure size 432x288 with 1 Axes>"
      ]
     },
     "metadata": {},
     "output_type": "display_data"
    }
   ],
   "source": [
    "def compute_evaluation_metric(model,x_test,y_actual,y_predicted,y_predicted_prob):\n",
    "    print('\\n Accuracy Score : \\n ',accuracy_score(y_actual,y_predicted))\n",
    "    print('\\n AUC Score : \\n ',roc_auc_score(y_actual,y_predicted))\n",
    "    print('\\n Confusion Matrix : \\n ',confusion_matrix(y_actual,y_predicted))\n",
    "    print('\\n Classification Report : \\n ',classification_report(y_actual,y_predicted))\n",
    "    \n",
    "    print('\\n ROC Curve : \\n ')\n",
    "    sns.set_style('white')\n",
    "    plot_roc_curve(model,x_test,y_actual)\n",
    "    plt.show()\n",
    "    \n",
    "compute_evaluation_metric(model,X_test,y_test,y_pred,y_pred_prod)"
   ]
  },
  {
   "cell_type": "markdown",
   "id": "2df999f1",
   "metadata": {},
   "source": [
    "# Optimization - Handling Imbalance"
   ]
  },
  {
   "cell_type": "code",
   "execution_count": 65,
   "id": "4b3c247a",
   "metadata": {},
   "outputs": [
    {
     "data": {
      "text/plain": [
       "0.0    237500\n",
       "1.0    237500\n",
       "Name: INDICATED_DAMAGE, dtype: int64"
      ]
     },
     "execution_count": 65,
     "metadata": {},
     "output_type": "execute_result"
    }
   ],
   "source": [
    "ros=RandomOverSampler()\n",
    "\n",
    "X_ros, y_ros=ros.fit_resample(X,y)\n",
    "\n",
    "y_ros.value_counts()"
   ]
  },
  {
   "cell_type": "code",
   "execution_count": 66,
   "id": "23453b56",
   "metadata": {},
   "outputs": [],
   "source": [
    "X=X_ros\n",
    "y=y_ros"
   ]
  },
  {
   "cell_type": "code",
   "execution_count": 67,
   "id": "39313e4e",
   "metadata": {},
   "outputs": [],
   "source": [
    "X_train, X_test, y_train, y_test=train_test_split(X,y,test_size=0.3,random_state=123)"
   ]
  },
  {
   "cell_type": "code",
   "execution_count": 68,
   "id": "839dbff5",
   "metadata": {},
   "outputs": [
    {
     "data": {
      "text/plain": [
       "StandardScaler()"
      ]
     },
     "execution_count": 68,
     "metadata": {},
     "output_type": "execute_result"
    }
   ],
   "source": [
    "scaler.fit(X_train)"
   ]
  },
  {
   "cell_type": "code",
   "execution_count": 69,
   "id": "b2073f26",
   "metadata": {},
   "outputs": [],
   "source": [
    "X_train=scaler.transform(X_train)\n",
    "X_test=scaler.transform(X_test)"
   ]
  },
  {
   "cell_type": "markdown",
   "id": "0b418325",
   "metadata": {},
   "source": [
    "# Model Building"
   ]
  },
  {
   "cell_type": "code",
   "execution_count": 70,
   "id": "b3e50acd",
   "metadata": {},
   "outputs": [],
   "source": [
    "input_ml_algo='XGBC'"
   ]
  },
  {
   "cell_type": "code",
   "execution_count": 71,
   "id": "89bbeade",
   "metadata": {},
   "outputs": [],
   "source": [
    "def model_to_use(input_ml_algo):\n",
    "    if input_ml_algo=='DT':\n",
    "        model=DecisionTreeClassifier()\n",
    "    elif input_ml_algo=='RF':\n",
    "        model=RandomForestClassifier()\n",
    "    elif input_ml_algo=='XGBC':\n",
    "        model=XGBClassifier()\n",
    "    elif input_ml_algo=='LGBMC':\n",
    "        model=LGBMClassifier()\n",
    "    elif input_ml_algo=='LR':\n",
    "        model=LogisticRegression()\n",
    "    return model"
   ]
  },
  {
   "cell_type": "code",
   "execution_count": 72,
   "id": "a3b2cd93",
   "metadata": {},
   "outputs": [
    {
     "data": {
      "text/plain": [
       "XGBClassifier(base_score=None, booster=None, colsample_bylevel=None,\n",
       "              colsample_bynode=None, colsample_bytree=None,\n",
       "              enable_categorical=False, gamma=None, gpu_id=None,\n",
       "              importance_type=None, interaction_constraints=None,\n",
       "              learning_rate=None, max_delta_step=None, max_depth=None,\n",
       "              min_child_weight=None, missing=nan, monotone_constraints=None,\n",
       "              n_estimators=100, n_jobs=None, num_parallel_tree=None,\n",
       "              predictor=None, random_state=None, reg_alpha=None,\n",
       "              reg_lambda=None, scale_pos_weight=None, subsample=None,\n",
       "              tree_method=None, validate_parameters=None, verbosity=None)"
      ]
     },
     "execution_count": 72,
     "metadata": {},
     "output_type": "execute_result"
    }
   ],
   "source": [
    "model=model_to_use('XGBC')\n",
    "model"
   ]
  },
  {
   "cell_type": "code",
   "execution_count": 73,
   "id": "c3b0ba72",
   "metadata": {},
   "outputs": [
    {
     "name": "stdout",
     "output_type": "stream",
     "text": [
      "[16:13:18] WARNING: C:/Users/Administrator/workspace/xgboost-win64_release_1.5.1/src/learner.cc:1115: Starting in XGBoost 1.3.0, the default evaluation metric used with the objective 'binary:logistic' was changed from 'error' to 'logloss'. Explicitly set eval_metric if you'd like to restore the old behavior.\n"
     ]
    },
    {
     "data": {
      "text/plain": [
       "XGBClassifier(base_score=0.5, booster='gbtree', colsample_bylevel=1,\n",
       "              colsample_bynode=1, colsample_bytree=1, enable_categorical=False,\n",
       "              gamma=0, gpu_id=-1, importance_type=None,\n",
       "              interaction_constraints='', learning_rate=0.300000012,\n",
       "              max_delta_step=0, max_depth=6, min_child_weight=1, missing=nan,\n",
       "              monotone_constraints='()', n_estimators=100, n_jobs=8,\n",
       "              num_parallel_tree=1, predictor='auto', random_state=0,\n",
       "              reg_alpha=0, reg_lambda=1, scale_pos_weight=1, subsample=1,\n",
       "              tree_method='exact', validate_parameters=1, verbosity=None)"
      ]
     },
     "execution_count": 73,
     "metadata": {},
     "output_type": "execute_result"
    }
   ],
   "source": [
    "model.fit(X_train, y_train)\n",
    "model"
   ]
  },
  {
   "cell_type": "code",
   "execution_count": 74,
   "id": "28d2b50e",
   "metadata": {},
   "outputs": [
    {
     "name": "stdout",
     "output_type": "stream",
     "text": [
      "Y predicted :  [0. 0. 0. ... 1. 1. 1.]\n",
      "Y probability predicted :  [3.2431326e-05, 1.6473839e-06, 1.2730426e-06, 0.99999857, 4.97814e-06]\n"
     ]
    }
   ],
   "source": [
    "y_pred=model.predict(X_test)\n",
    "\n",
    "#predict probability for test dataset\n",
    "y_pred_prod=model.predict_proba(X_test)\n",
    "y_pred_prod=[x[1]for x in y_pred_prod]     \n",
    "print('Y predicted : ',y_pred)\n",
    "print('Y probability predicted : ',y_pred_prod[:5])"
   ]
  },
  {
   "cell_type": "code",
   "execution_count": 75,
   "id": "a729e3fa",
   "metadata": {},
   "outputs": [
    {
     "name": "stdout",
     "output_type": "stream",
     "text": [
      "\n",
      " Accuracy Score : \n",
      "  0.9998315789473684\n",
      "\n",
      " AUC Score : \n",
      "  0.999831511733121\n",
      "\n",
      " Confusion Matrix : \n",
      "  [[71327     8]\n",
      " [   16 71149]]\n",
      "\n",
      " Classification Report : \n",
      "                precision    recall  f1-score   support\n",
      "\n",
      "         0.0       1.00      1.00      1.00     71335\n",
      "         1.0       1.00      1.00      1.00     71165\n",
      "\n",
      "    accuracy                           1.00    142500\n",
      "   macro avg       1.00      1.00      1.00    142500\n",
      "weighted avg       1.00      1.00      1.00    142500\n",
      "\n",
      "\n",
      " ROC Curve : \n",
      " \n"
     ]
    },
    {
     "data": {
      "image/png": "[encoded data removed]",
      "text/plain": [
       "<Figure size 432x288 with 1 Axes>"
      ]
     },
     "metadata": {},
     "output_type": "display_data"
    }
   ],
   "source": [
    "def compute_evaluation_metric(model,x_test,y_actual,y_predicted,y_predicted_prob):\n",
    "    print('\\n Accuracy Score : \\n ',accuracy_score(y_actual,y_predicted))\n",
    "    print('\\n AUC Score : \\n ',roc_auc_score(y_actual,y_predicted))\n",
    "    print('\\n Confusion Matrix : \\n ',confusion_matrix(y_actual,y_predicted))\n",
    "    print('\\n Classification Report : \\n ',classification_report(y_actual,y_predicted))\n",
    "    \n",
    "    print('\\n ROC Curve : \\n ')\n",
    "    sns.set_style('white')\n",
    "    plot_roc_curve(model,x_test,y_actual)\n",
    "    plt.show()\n",
    "    \n",
    "compute_evaluation_metric(model,X_test,y_test,y_pred,y_pred_prod)"
   ]
  },
  {
   "cell_type": "markdown",
   "id": "3932c908",
   "metadata": {},
   "source": [
    "# Hyper Parameter Tuning"
   ]
  },
  {
   "cell_type": "code",
   "execution_count": 76,
   "id": "ae536edd",
   "metadata": {},
   "outputs": [],
   "source": [
    "param_grid_decision_tree={'criterion':['gini','entropy'],\n",
    "                         'max_depth':[10,15,20,30,40,50],\n",
    "                         'min_samples_leaf':[1,2,5]}\n",
    "\n",
    "#Define the parameters grid for random forest\n",
    "param_grid_random_forest={'max_depth': [10,20,40],\n",
    "                         'n_estimators': [100,200,300],\n",
    "                         'min_samples_leaf': [1,2,5]}\n",
    "\n",
    "#Define the parameters grid for XGBoost\n",
    "param_grid_xgb={'min_child_weight': [1,5,10],\n",
    "               'gamma': [0,1],\n",
    "               'max_depth': [5,10],\n",
    "               'learning_rate': [0.05,0.1]}\n",
    "\n",
    "#Define the parameters grid for LGBM\n",
    "param_grid_lgbm={'n_estimator':[100,200],\n",
    "                'num_leaves': [256,128],\n",
    "                'max_depth':[5,8,10],\n",
    "                'learning_rate': [0.05,0.1]}"
   ]
  },
  {
   "cell_type": "code",
   "execution_count": 77,
   "id": "31f327fe",
   "metadata": {},
   "outputs": [],
   "source": [
    "def param(input_ml_algo):\n",
    "    if input_ml_algo=='DT':\n",
    "        model=DecisionTreeClassifier()\n",
    "        param_grid=param_grid_decision_tree\n",
    "    elif input_ml_algo=='RF':\n",
    "        model=RandomForestClassifier()\n",
    "        param_grid=param_grid_random_forest\n",
    "    elif input_ml_algo=='XGBC':\n",
    "        model=XGBClassifier()\n",
    "        param_grid=param_grid_xgb\n",
    "    elif input_ml_algo=='LGBMC':\n",
    "        model=LGBMClassifier()\n",
    "        param_grid=param_grid_lgbm\n",
    "    return param_grid"
   ]
  },
  {
   "cell_type": "code",
   "execution_count": 78,
   "id": "3da4b42c",
   "metadata": {},
   "outputs": [],
   "source": [
    "from sklearn.model_selection import GridSearchCV\n",
    "import warnings\n",
    "warnings.filterwarnings('ignore')"
   ]
  },
  {
   "cell_type": "code",
   "execution_count": 79,
   "id": "4d99c7ee",
   "metadata": {},
   "outputs": [
    {
     "data": {
      "text/plain": [
       "dict_keys(['objective', 'use_label_encoder', 'base_score', 'booster', 'colsample_bylevel', 'colsample_bynode', 'colsample_bytree', 'enable_categorical', 'gamma', 'gpu_id', 'importance_type', 'interaction_constraints', 'learning_rate', 'max_delta_step', 'max_depth', 'min_child_weight', 'missing', 'monotone_constraints', 'n_estimators', 'n_jobs', 'num_parallel_tree', 'predictor', 'random_state', 'reg_alpha', 'reg_lambda', 'scale_pos_weight', 'subsample', 'tree_method', 'validate_parameters', 'verbosity'])"
      ]
     },
     "execution_count": 79,
     "metadata": {},
     "output_type": "execute_result"
    }
   ],
   "source": [
    "#to check model parameters\n",
    "model.get_params().keys()"
   ]
  },
  {
   "cell_type": "code",
   "execution_count": 80,
   "id": "991f1098",
   "metadata": {},
   "outputs": [
    {
     "name": "stdout",
     "output_type": "stream",
     "text": [
      "Fitting 5 folds for each of 36 candidates, totalling 180 fits\n",
      "[17:00:48] WARNING: C:/Users/Administrator/workspace/xgboost-win64_release_1.5.1/src/learner.cc:576: \n",
      "Parameters: { \"criterion\", \"min_samples_leaf\" } might not be used.\n",
      "\n",
      "  This could be a false alarm, with some parameters getting used by language bindings but\n",
      "  then being mistakenly passed down to XGBoost core, or some parameter actually being used\n",
      "  but getting flagged wrongly here. Please open an issue if you find any such cases.\n",
      "\n",
      "\n",
      "[17:00:48] WARNING: C:/Users/Administrator/workspace/xgboost-win64_release_1.5.1/src/learner.cc:1115: Starting in XGBoost 1.3.0, the default evaluation metric used with the objective 'binary:logistic' was changed from 'error' to 'logloss'. Explicitly set eval_metric if you'd like to restore the old behavior.\n"
     ]
    },
    {
     "data": {
      "text/plain": [
       "GridSearchCV(estimator=XGBClassifier(base_score=0.5, booster='gbtree',\n",
       "                                     colsample_bylevel=1, colsample_bynode=1,\n",
       "                                     colsample_bytree=1,\n",
       "                                     enable_categorical=False, gamma=0,\n",
       "                                     gpu_id=-1, importance_type=None,\n",
       "                                     interaction_constraints='',\n",
       "                                     learning_rate=0.300000012,\n",
       "                                     max_delta_step=0, max_depth=6,\n",
       "                                     min_child_weight=1, missing=nan,\n",
       "                                     monotone_constraints='()',\n",
       "                                     n_estimators=100, n_jobs=8,\n",
       "                                     num_parallel_tree=1, predictor='auto',\n",
       "                                     random_state=0, reg_alpha=0, reg_lambda=1,\n",
       "                                     scale_pos_weight=1, subsample=1,\n",
       "                                     tree_method='exact', validate_parameters=1,\n",
       "                                     verbosity=None),\n",
       "             n_jobs=-1,\n",
       "             param_grid={'criterion': ['gini', 'entropy'],\n",
       "                         'max_depth': [10, 15, 20, 30, 40, 50],\n",
       "                         'min_samples_leaf': [1, 2, 5]},\n",
       "             verbose=3)"
      ]
     },
     "execution_count": 80,
     "metadata": {},
     "output_type": "execute_result"
    }
   ],
   "source": [
    "grid=GridSearchCV(model,param_grid_decision_tree,refit=True,verbose=3, n_jobs=-1)\n",
    "\n",
    "#fit the model for grid search\n",
    "grid.fit(X_train,y_train)"
   ]
  },
  {
   "cell_type": "code",
   "execution_count": 81,
   "id": "2498867c",
   "metadata": {},
   "outputs": [
    {
     "data": {
      "text/plain": [
       "{'criterion': 'gini', 'max_depth': 20, 'min_samples_leaf': 1}"
      ]
     },
     "execution_count": 81,
     "metadata": {},
     "output_type": "execute_result"
    }
   ],
   "source": [
    "grid.best_params_"
   ]
  },
  {
   "cell_type": "code",
   "execution_count": 82,
   "id": "64d31a64",
   "metadata": {},
   "outputs": [
    {
     "name": "stdout",
     "output_type": "stream",
     "text": [
      "Y predicted :  [0. 0. 0. ... 1. 1. 1.]\n",
      "Y probability predicted :  [0.99999493, 0.99999607, 0.9999988, 1.5497208e-06, 0.9999932]\n"
     ]
    }
   ],
   "source": [
    "y_pred=grid.predict(X_test)\n",
    "\n",
    "#predict probability for test dataset\n",
    "y_pred_prod=grid.predict_proba(X_test)\n",
    "y_pred_prod=[x[0] for x in y_pred_prod]\n",
    "print('Y predicted : ',y_pred)\n",
    "print('Y probability predicted : ',y_pred_prod[:5])"
   ]
  },
  {
   "cell_type": "code",
   "execution_count": 83,
   "id": "b5062760",
   "metadata": {},
   "outputs": [
    {
     "name": "stdout",
     "output_type": "stream",
     "text": [
      "\n",
      " Accuracy Score : \n",
      "  0.9998877192982456\n",
      "\n",
      " AUC Score : \n",
      "  0.9998877693693585\n",
      "\n",
      " Confusion Matrix : \n",
      "  [[71324    11]\n",
      " [    5 71160]]\n",
      "\n",
      " Classification Report : \n",
      "                precision    recall  f1-score   support\n",
      "\n",
      "         0.0       1.00      1.00      1.00     71335\n",
      "         1.0       1.00      1.00      1.00     71165\n",
      "\n",
      "    accuracy                           1.00    142500\n",
      "   macro avg       1.00      1.00      1.00    142500\n",
      "weighted avg       1.00      1.00      1.00    142500\n",
      "\n",
      "\n",
      " ROC Curve : \n",
      " \n"
     ]
    },
    {
     "data": {
      "image/png": "[encoded data removed]",
      "text/plain": [
       "<Figure size 432x288 with 1 Axes>"
      ]
     },
     "metadata": {},
     "output_type": "display_data"
    }
   ],
   "source": [
    "compute_evaluation_metric(grid, X_test, y_test,y_pred,y_pred_prod)"
   ]
  },
  {
   "cell_type": "code",
   "execution_count": 84,
   "id": "bdec73b5",
   "metadata": {},
   "outputs": [],
   "source": [
    "import pickle"
   ]
  },
  {
   "cell_type": "code",
   "execution_count": 85,
   "id": "42401fca",
   "metadata": {},
   "outputs": [],
   "source": [
    "pickle.dump(model, open('bird_model.pkl','wb'))\n",
    "\n",
    "pickle.dump(scaler, open('bird_scaler.pkl','wb'))"
   ]
  },
  {
   "cell_type": "markdown",
   "id": "c650a1ce",
   "metadata": {},
   "source": [
    "# Streamlit"
   ]
  },
  {
   "cell_type": "code",
   "execution_count": 5,
   "id": "fbe91405",
   "metadata": {},
   "outputs": [
    {
     "name": "stdout",
     "output_type": "stream",
     "text": [
      "Overwriting StrikesPrediction.py\n"
     ]
    }
   ],
   "source": [
    "%%writefile StrikesPrediction.py\n",
    "\n",
    "import streamlit as st\n",
    "import pandas as pd\n",
    "import numpy as np\n",
    "import pickle\n",
    "from PIL import Image\n",
    "\n",
    "st.write(\"\"\"\n",
    "# STRIKES PREDICTION APP\n",
    "\"\"\")\n",
    "image=Image.open('bird_strike.jpg')\n",
    "st.image(image, width=500)\n",
    "\n",
    "model=pickle.load(open('bird_model.pkl','rb'))\n",
    "\n",
    "scaler=pickle.load(open('bird_scaler.pkl','rb'))\n",
    "\n",
    "st.sidebar.header('Post Strike Parameters')\n",
    "\n",
    "def user_input_features():\n",
    "    Season=st.selectbox('Choose season',('Fall','Summer','Spring','Winter'))\n",
    "    if Season=='Fall':\n",
    "        Season=4\n",
    "    if Season=='Summer':\n",
    "        Season=3\n",
    "    if Season=='Spring':\n",
    "        Season=2                   \n",
    "    else:\n",
    "        Season=1\n",
    "    Sky=st.selectbox('Any clouds?',('No Cloud', 'Overcast', 'Some Cloud'))   \n",
    "    if Sky=='No Cloud':\n",
    "        Sky=3\n",
    "    if Sky=='Overcast':\n",
    "        Sky=2\n",
    "    else:\n",
    "        Sky=1\n",
    "    Precipitation=st.selectbox('What is the precipitation status?',('None', 'Fog', 'Rain', 'Snow', 'Fog, Rain', 'Rain, Snow',\n",
    "       'Fog, Snow', 'Fog, Rain, Snow'))\n",
    "    if Precipitation=='None':\n",
    "        Precipitation=8\n",
    "    if Precipitation=='Fog':\n",
    "        Precipitation=7\n",
    "    if Precipitation=='Rain':\n",
    "        Precipitation=6\n",
    "    if Precipitation=='Snow':\n",
    "        Precipitation=5 \n",
    "    if Precipitation=='Fog,Rain':\n",
    "        Precipitation=4\n",
    "    if Precipitation=='Rain,Snow':\n",
    "        Precipitation=3\n",
    "    if Precipitation=='Fog,Snow':\n",
    "        Precipitation=2\n",
    "    else:\n",
    "        Precipitation=1\n",
    "    Time_of_day=st.selectbox('When is the flight scheduled for?',('Night','Day', 'Dawn', 'Dusk'))\n",
    "    if Time_of_day=='Night':\n",
    "        Time_of_day=4\n",
    "    if Time_of_day=='Day':\n",
    "        Time_of_day=3\n",
    "    if Time_of_day=='Dawn':\n",
    "        Time_of_day=2\n",
    "    else:\n",
    "        Time_of_day=1\n",
    "    Num_Engs =st.selectbox('How many engines has the aircraft?',('1.','2.', '3.', '4.'))\n",
    "    if Num_Engs=='1.':\n",
    "        Num_Engs=4\n",
    "    if Num_Engs=='2.':\n",
    "        Num_Engs=3\n",
    "    if Num_Engs=='3.':\n",
    "        Num_Engs=2\n",
    "    else:\n",
    "        Num_Engs=1\n",
    "    Type_Engs=st.selectbox('What type of engine does the aircraft have?',('A', 'D', 'C', 'F', 'B', 'Y', 'E'))\n",
    "    if Type_Engs=='A':\n",
    "         Type_Engs=7\n",
    "    if Type_Engs=='D':\n",
    "         Type_Engs=6                   \n",
    "    if Type_Engs=='C':\n",
    "        Type_Engs=5\n",
    "    if Type_Engs=='F':\n",
    "        Type_Engs=4\n",
    "    if Type_Engs=='B':\n",
    "        Type_Engs=3\n",
    "    if Type_Engs=='Y':\n",
    "        Type_Engs=2\n",
    "    else:\n",
    "        Type_Engs=1\n",
    "    FAAREGION=st.selectbox('What region is the airport situated?',('AGL', 'ASW', 'ANE', 'ANM', \n",
    "                                                                   'ASO', 'AWP', 'AEA', 'ACE', 'AAL','FGN'))\n",
    "    if FAAREGION=='AGL':\n",
    "        FAAREGION=10\n",
    "    if FAAREGION=='ASW':\n",
    "        FAAREGION=9\n",
    "    if FAAREGION=='ANE':\n",
    "        FAAREGION=8\n",
    "    if FAAREGION=='ANM':\n",
    "        FAAREGION=7\n",
    "    if FAAREGION=='ASO':\n",
    "        FAAREGION=6\n",
    "    if FAAREGION=='AWP':\n",
    "        FAAREGION=5\n",
    "    if FAAREGION=='AEA':\n",
    "        FAAREGION=4\n",
    "    if FAAREGION=='ACE':\n",
    "        FAAREGION=3\n",
    "    if FAAREGION=='FGN':\n",
    "        FAAREGION=2\n",
    "    else:\n",
    "        FAAREGION=1\n",
    "    DAMAGE_RISK=st.sidebar.selectbox('Risk Level',('High Risk','Potential Risk','Low Risk','Undetermined'))\n",
    "    if DAMAGE_RISK=='High Risk':\n",
    "        DAMAGE_RISK=4\n",
    "    if DAMAGE_RISK=='Potential Risk':\n",
    "        DAMAGE_RISK=3\n",
    "    if DAMAGE_RISK=='Low Risk':\n",
    "        DAMAGE_RISK=2\n",
    "    else:\n",
    "        DAMAGE_RISK=1\n",
    "    DAMAGE_LEVEL=st.sidebar.selectbox('Damage Level',('N', 'S', 'M', 'M?', 'D'))\n",
    "    if DAMAGE_LEVEL=='D':\n",
    "        DAMAGE_LEVEL=3\n",
    "    if DAMAGE_LEVEL=='M?':\n",
    "        DAMAGE_LEVEL=4\n",
    "    if DAMAGE_LEVEL=='M':\n",
    "        DAMAGE_LEVEL=3\n",
    "    if DAMAGE_LEVEL=='S?':\n",
    "        DAMAGE_LEVEL=2\n",
    "    else:\n",
    "        DAMAGE_LEVEL=1\n",
    "    PHASE_OF_FLIGHT=st.sidebar.selectbox('Flight Phase When Collission Occured?',('Approach', 'Landing Roll', 'Climb', \n",
    "                                                                                  'En Route', 'Take-off Run','Taxi', \n",
    "                                                                                  'Descent', 'Parked', 'Local', 'Arrival',\n",
    "                                                                                  'Departure', 'Unknown'))\n",
    "    if PHASE_OF_FLIGHT=='Approach':\n",
    "        PHASE_OF_FLIGHT=12\n",
    "    if PHASE_OF_FLIGHT=='Landing Roll':\n",
    "        PHASE_OF_FLIGHT=11\n",
    "    if PHASE_OF_FLIGHT=='Climb':\n",
    "        PHASE_OF_FLIGHT=10\n",
    "    if PHASE_OF_FLIGHT=='En Route':\n",
    "        PHASE_OF_FLIGHT=9\n",
    "    if PHASE_OF_FLIGHT=='Take-off Run':\n",
    "        PHASE_OF_FLIGHT=8\n",
    "    if PHASE_OF_FLIGHT=='Taxi':\n",
    "        PHASE_OF_FLIGHT=7\n",
    "    if PHASE_OF_FLIGHT=='Descent':\n",
    "        PHASE_OF_FLIGHT=6\n",
    "    if PHASE_OF_FLIGHT=='Parked':\n",
    "        PHASE_OF_FLIGHT=5\n",
    "    if PHASE_OF_FLIGHT=='Local':\n",
    "        PHASE_OF_FLIGHT=4\n",
    "    if PHASE_OF_FLIGHT=='Arrival':\n",
    "        PHASE_OF_FLIGHT=3\n",
    "    if PHASE_OF_FLIGHT=='Departure':\n",
    "        PHASE_OF_FLIGHT=2\n",
    "    else:\n",
    "        PHASE_OF_FLIGHT=1\n",
    "                                     \n",
    "    AIRCRAFT=st.sidebar.number_input('What is The Aircraft Type?')\n",
    "    AIRPORT=st.sidebar.number_input('Enter Airport')\n",
    "    ENG_1_POS=st.sidebar.number_input('Where is Engine 1 Positioned?')\n",
    "    ENG_2_POS=st.sidebar.number_input('Where is Engine 2 Postioned?')\n",
    "    ENG_3_POS=st.sidebar.number_input('Where is Engine 3 Postioned?')\n",
    "    ENG_4_POS=st.sidebar.number_input('Where is Engine 4 Postioned?')\n",
    "                        \n",
    "    data={'SEASON':Season,'SKY':Sky,'PRECIPITATION':Precipitation,'TIME_OF_DAY':Time_of_day,\n",
    "           'NUM_ENGS':Num_Engs,'TYPE_ENG':Type_Engs,'FAAREGION':FAAREGION,'DAMAGE_LEVEL':DAMAGE_LEVEL,\n",
    "          'DAMAGE_RISK':DAMAGE_RISK,'PHASE_OF_FLIGHT':PHASE_OF_FLIGHT, 'AIRCRAFT':AIRCRAFT,\n",
    "          'ENG_1_POS':ENG_1_POS,'ENG_2_POS':ENG_2_POS,'ENG_3_POS':ENG_3_POS,'ENG_4_POS':ENG_4_POS,'AIRPORT':AIRPORT\n",
    "          }\n",
    "    features = pd.DataFrame(data,index=[0])\n",
    "    return features\n",
    "\n",
    "input_dfs=user_input_features()\n",
    "input_df=scaler.transform(input_dfs)\n",
    "\n",
    "    \n",
    "if st.button('PREDICT'):\n",
    "    y_out=model.predict(input_df)\n",
    "    if y_out[0]==1:\n",
    "        st.write(f' You are at a high damage risk from strikes')\n",
    "    else:\n",
    "        st.write(f' You are at a low damage from strikes')  "
   ]
  },
  {
   "cell_type": "code",
   "execution_count": null,
   "id": "4a341e73",
   "metadata": {},
   "outputs": [],
   "source": [
    "!streamlit run StrikesPrediction.py"
   ]
  },
  {
   "cell_type": "code",
   "execution_count": null,
   "id": "c5c989ad",
   "metadata": {},
   "outputs": [],
   "source": []
  }
 ],
 "metadata": {
  "kernelspec": {
   "display_name": "Python 3",
   "language": "python",
   "name": "python3"
  },
  "language_info": {
   "codemirror_mode": {
    "name": "ipython",
    "version": 3
   },
   "file_extension": ".py",
   "mimetype": "text/x-python",
   "name": "python",
   "nbconvert_exporter": "python",
   "pygments_lexer": "ipython3",
   "version": "3.8.8"
  }
 },
 "nbformat": 4,
 "nbformat_minor": 5
}
